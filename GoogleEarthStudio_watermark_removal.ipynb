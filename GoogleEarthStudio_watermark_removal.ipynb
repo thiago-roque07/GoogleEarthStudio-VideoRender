{
 "cells": [
  {
   "cell_type": "code",
   "execution_count": null,
   "metadata": {},
   "outputs": [],
   "source": [
    "from PIL import Image\n",
    "from pathlib import Path\n",
    "import cv2\n",
    "import numpy as np\n",
    "import glob\n",
    "%matplotlib inline\n",
    "#The line above is necesary to show Matplotlib's plots inside a Jupyter Notebook\n",
    "from matplotlib import pyplot as plt"
   ]
  },
  {
   "cell_type": "code",
   "execution_count": null,
   "metadata": {},
   "outputs": [],
   "source": [
    "# utils\n",
    "\n",
    "# fps set on Google Earth Studio \n",
    "fps = 30\n",
    "\n",
    "# folder path to read rendered images\n",
    "data_folder_read = Path(\"path/to/rendered/images\")\n",
    "\n",
    "# folder path to save cleaned images\n",
    "data_folder_write = Path(\"path/to/modified/images\")\n",
    "\n",
    "# folder path to read the cleaned images to render the video\n",
    "data_folder_to_render = r\"path/to/modified/images/\""
   ]
  },
  {
   "cell_type": "code",
   "execution_count": null,
   "metadata": {},
   "outputs": [],
   "source": [
    "def crop_topleft(number):\n",
    "    \n",
    "    ### Insert here the rendered images with the Google Earth Logo set to botton right (or anywhere except from top left)\n",
    "    \n",
    "    name = \"ImageNameWithoutItsNumber_\" + str(number).zfill(4) + \".jpeg\"\n",
    "    file_to_open = data_folder_read / name\n",
    "    #print(file_to_open)\n",
    "    im = Image.open(file_to_open)\n",
    "\n",
    "    width, height = im.size\n",
    "\n",
    "    left_cut = 180\n",
    "    upper_cut = 100\n",
    "    right_cut = 510\n",
    "    lower_cut = 250\n",
    "\n",
    "    box = (left_cut, upper_cut, right_cut, lower_cut)\n",
    "    image_crop_left = im.crop(box)\n",
    "    #image_crop_left.show()\n",
    "    return image_crop_left"
   ]
  },
  {
   "cell_type": "code",
   "execution_count": null,
   "metadata": {},
   "outputs": [],
   "source": [
    "def remove_watermark(number):\n",
    "    clean_crop = crop_topleft(number)\n",
    "\n",
    "    ### Insert here the rendered images with the Google Earth Logo set to top left      \n",
    "    ### Its logo will be substituted from the cropped image from function crop_topleft  \n",
    "    \n",
    "    name = \"ImageNameWithoutItsNumber_\" + str(number).zfill(4) + \".jpeg\"\n",
    "    file_to_open = data_folder_read / name\n",
    "    #print(file_to_open)\n",
    "    im = Image.open(file_to_open)\n",
    "\n",
    "    new_image = Image.new('RGB',im.size, (250,250,250))\n",
    "    new_image.paste(im,(0,0))\n",
    "    new_image.paste(clean_crop,(180,100))\n",
    "    #new_image.show()\n",
    "    new_name = \"cleaned_image\" + str(number).zfill(4) + \".jpeg\"\n",
    "    new_image.save(data_folder_write / new_name,\"JPEG\")"
   ]
  },
  {
   "cell_type": "code",
   "execution_count": null,
   "metadata": {},
   "outputs": [],
   "source": [
    "# enter here the number of frames exported from Google Earth Studio\n",
    "num_images = 2145\n",
    "\n",
    "for x in range(num_images):\n",
    "    print(x)\n",
    "    remove_watermark(x)"
   ]
  },
  {
   "cell_type": "code",
   "execution_count": null,
   "metadata": {},
   "outputs": [],
   "source": [
    "img_array = []\n",
    "\n",
    "# enter here the number of frames exported from Google Earth Studio\n",
    "num_frames = 2145\n",
    "#size = (width,height)\n",
    "\n",
    "out = cv2.VideoWriter('project5.mp4',cv2.VideoWriter_fourcc('m', 'p', '4', 'v'), 30, size)\n",
    "\n",
    "\n",
    "for count in range(num_frames):\n",
    "    filename = \"cleaned_image\" + str(count).zfill(4) + \".jpeg\"\n",
    "    path = data_folder_to_render + filename\n",
    "    print(path)\n",
    "    img = cv2.imread(path, cv2.COLOR_RGBA2BGRA)\n",
    "    \n",
    "    \n",
    "    out.write(img)\n",
    " \n",
    "out.release()"
   ]
  }
 ],
 "metadata": {
  "kernelspec": {
   "display_name": "Python 3",
   "language": "python",
   "name": "python3"
  },
  "language_info": {
   "codemirror_mode": {
    "name": "ipython",
    "version": 3
   },
   "file_extension": ".py",
   "mimetype": "text/x-python",
   "name": "python",
   "nbconvert_exporter": "python",
   "pygments_lexer": "ipython3",
   "version": "3.8.5"
  }
 },
 "nbformat": 4,
 "nbformat_minor": 4
}
